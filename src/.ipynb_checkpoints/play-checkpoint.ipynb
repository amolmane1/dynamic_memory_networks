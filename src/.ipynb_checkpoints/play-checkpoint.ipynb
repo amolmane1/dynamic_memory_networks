{
 "cells": [
  {
   "cell_type": "code",
   "execution_count": 1,
   "metadata": {
    "collapsed": true
   },
   "outputs": [],
   "source": [
    "import numpy as np\n",
    "import pandas as pd\n",
    "import tensorflow as tf\n",
    "import random\n",
    "import re"
   ]
  },
  {
   "cell_type": "markdown",
   "metadata": {},
   "source": [
    "# Variables"
   ]
  },
  {
   "cell_type": "code",
   "execution_count": 2,
   "metadata": {
    "collapsed": false
   },
   "outputs": [],
   "source": [
    "vocab_size = 400000\n",
    "embedding_dim = 50\n",
    "max_input_len = None\n",
    "max_question_len = None\n",
    "max_answer_len = None\n",
    "input_sequence_lengths = None\n",
    "input_period_indices = None\n",
    "max_facts = None\n",
    "hidden_layer_size = 10\n",
    "num_rows = 1000"
   ]
  },
  {
   "cell_type": "markdown",
   "metadata": {},
   "source": [
    "# Read in glove"
   ]
  },
  {
   "cell_type": "code",
   "execution_count": 3,
   "metadata": {
    "collapsed": true
   },
   "outputs": [],
   "source": [
    "file = open(\"../../datasets/glove.6B/glove.6B.50d.txt\")    "
   ]
  },
  {
   "cell_type": "code",
   "execution_count": 4,
   "metadata": {
    "collapsed": true
   },
   "outputs": [],
   "source": [
    "embedding = np.ndarray([vocab_size, embedding_dim])\n",
    "word_id_dict = {}"
   ]
  },
  {
   "cell_type": "code",
   "execution_count": 5,
   "metadata": {
    "collapsed": false
   },
   "outputs": [],
   "source": [
    "id = 0\n",
    "for line in file:\n",
    "    items = line.split(' ')\n",
    "    word_id_dict[items[0]] = id\n",
    "    embedding[id,:] = np.array([float(i) for i in items[1:]])\n",
    "    id += 1\n",
    "file.close()"
   ]
  },
  {
   "cell_type": "markdown",
   "metadata": {},
   "source": [
    "# Parsing training data"
   ]
  },
  {
   "cell_type": "code",
   "execution_count": 6,
   "metadata": {
    "collapsed": true
   },
   "outputs": [],
   "source": [
    "file = open(\"../../datasets/facebook_babi/tasks_1-20_v1-2/en/qa1_single-supporting-fact_train.txt\")"
   ]
  },
  {
   "cell_type": "code",
   "execution_count": 7,
   "metadata": {
    "collapsed": true
   },
   "outputs": [],
   "source": [
    "chapter_input = []\n",
    "data = []\n",
    "for line in file:\n",
    "    items = re.sub('[?.]', '', line).lower().split()\n",
    "    if items[0] == '1':\n",
    "        chapter_input = items[1:] + ['.']\n",
    "    elif items[-1].isdigit():\n",
    "        data.append({'I': chapter_input,\n",
    "                     'Q': items[1:-2],\n",
    "                     'A': [items[-2]]})\n",
    "    else:\n",
    "        chapter_input = chapter_input + items[1:] + ['.']\n",
    "file.close()"
   ]
  },
  {
   "cell_type": "code",
   "execution_count": 8,
   "metadata": {
    "collapsed": true
   },
   "outputs": [],
   "source": [
    "def max_len(data, iqa):\n",
    "    max_len = 0\n",
    "    for i in data:\n",
    "        max_len = max(max_len, len(i[iqa]))\n",
    "    return(max_len)"
   ]
  },
  {
   "cell_type": "code",
   "execution_count": 9,
   "metadata": {
    "collapsed": true
   },
   "outputs": [],
   "source": [
    "max_input_len = max_len(data, 'I')\n",
    "max_question_len = max_len(data, 'Q')\n",
    "max_answer_len = max_len(data, 'A')"
   ]
  },
  {
   "cell_type": "code",
   "execution_count": 10,
   "metadata": {
    "collapsed": true
   },
   "outputs": [],
   "source": [
    "input_sequence_lengths = []\n",
    "for i in data:\n",
    "    input_sequence_lengths.append(len(i['I']))"
   ]
  },
  {
   "cell_type": "code",
   "execution_count": 11,
   "metadata": {
    "collapsed": true
   },
   "outputs": [],
   "source": [
    "input_period_indices = []\n",
    "for i in data:\n",
    "    input_period_indices.append([index for index, j in enumerate(i['I']) if j=='.'])"
   ]
  },
  {
   "cell_type": "code",
   "execution_count": 12,
   "metadata": {
    "collapsed": false
   },
   "outputs": [],
   "source": [
    "max_facts = max([len(i) for i in input_period_indices])"
   ]
  },
  {
   "cell_type": "code",
   "execution_count": 13,
   "metadata": {
    "collapsed": true
   },
   "outputs": [],
   "source": [
    "def embed_and_pad(data):\n",
    "    inputs = np.zeros([len(data), max_len(data, 'I'), embedding_dim])\n",
    "    questions = np.zeros([len(data), max_len(data, 'Q'), embedding_dim])\n",
    "    answers = np.zeros([len(data), max_len(data, 'A'), embedding_dim])\n",
    "    for index, row in enumerate(data):\n",
    "        inputs[index,0:len(row['I']),:] = embedding[[word_id_dict[token] for token in row['I']]]\n",
    "        questions[index,0:len(row['Q']),:] = embedding[[word_id_dict[token] for token in row['Q']]]\n",
    "        answers[index,0:len(row['A']),:] = embedding[[word_id_dict[token] for token in row['A']]]\n",
    "    return((inputs, questions, answers))"
   ]
  },
  {
   "cell_type": "code",
   "execution_count": 14,
   "metadata": {
    "collapsed": false
   },
   "outputs": [],
   "source": [
    "data_inputs, data_questions, data_answers = embed_and_pad(data)"
   ]
  },
  {
   "cell_type": "markdown",
   "metadata": {},
   "source": [
    "# DMN pseudo"
   ]
  },
  {
   "cell_type": "code",
   "execution_count": null,
   "metadata": {
    "collapsed": true
   },
   "outputs": [],
   "source": [
    "# episodic memory\n",
    "m = q_vec \n",
    "for i in range(3):\n",
    "    # compute attention\n",
    "    z = [C, m, q, c*m, |c-q|, |c-m|, ...]\n",
    "    W1 = tf.placeholder(..)\n",
    "    b1 = tf.placeholder(..)\n",
    "    y1 = tf.tanh(tf.matmul(W1,Z) + b1)\n",
    "    \n",
    "    W2 = tf.placeholder(..)\n",
    "    b2 = tf.placeholder(..)\n",
    "    g = tf.sigmoid(tf.matmul(W2,y1) + b2)\n",
    "\n",
    "    # run through GRU\n",
    "    \n",
    "    gru_cell = tf.contrib.rnn.GRUCell(self.config.hidden_size)\n",
    "    _, gru_res = tf.nn.dynamic_rnn(gru_cell,\n",
    "            C,\n",
    "            dtype=np.float32,\n",
    "            sequence_length=<length of C>\n",
    "    )\n",
    "    \n",
    "    h = g*gru_res[-1] + (1 - g)*h # eq 7\n",
    "    \n",
    "    e = softmax(h)*C # eq 8\n",
    "    \n",
    "    gru_cell = tf.contrib.rnn.GRUCell(self.config.hidden_size)\n",
    "    _, m_vec = tf.nn.dynamic_rnn(gru_cell,\n",
    "            e,\n",
    "            initial_state = m\n",
    "            dtype=np.float32,\n",
    "            sequence_length=<length of C>\n",
    "    )\n",
    "    \n",
    "    m = m_vec[last]"
   ]
  },
  {
   "cell_type": "code",
   "execution_count": null,
   "metadata": {
    "collapsed": true
   },
   "outputs": [],
   "source": [
    "# answer module\n",
    "\n",
    "Wa = tf.placeholder(...)\n",
    "y_hat = tf.matmul(m, Wa)\n",
    "\n",
    "cross_entropy = tf.nn.sparse_softmax_cross_entropy_with_logits(y_hat, answer)\n",
    "loss = tf.reduce_mean(cross_entropy)\n",
    "optimizer = tf.train.AdadeltaOptimizer(learning_rate)\n",
    "opt_op = optimizer.minimize(loss)"
   ]
  },
  {
   "cell_type": "code",
   "execution_count": null,
   "metadata": {
    "collapsed": true
   },
   "outputs": [],
   "source": [
    "# for demo\n",
    "\n",
    "return(embeddings(argmax(y_hat)))\n"
   ]
  },
  {
   "cell_type": "markdown",
   "metadata": {},
   "source": [
    "# TF Play"
   ]
  },
  {
   "cell_type": "code",
   "execution_count": null,
   "metadata": {
    "collapsed": true
   },
   "outputs": [],
   "source": []
  },
  {
   "cell_type": "markdown",
   "metadata": {},
   "source": [
    "# DMN Implementation (God help me)"
   ]
  },
  {
   "cell_type": "code",
   "execution_count": 15,
   "metadata": {
    "collapsed": true
   },
   "outputs": [],
   "source": [
    "# placeholder for inputs\n",
    "inputs = tf.placeholder(tf.float32, shape=[None, max_input_len, embedding_dim])\n",
    "\n",
    "# placeholder for questions\n",
    "questions = tf.placeholder(tf.float32, shape=[None, max_question_len, embedding_dim])\n",
    "\n",
    "# placeholder for answers\n",
    "answers = tf.placeholder(tf.float32, shape=[None, max_answer_len, embedding_dim])"
   ]
  },
  {
   "cell_type": "code",
   "execution_count": 16,
   "metadata": {
    "collapsed": true
   },
   "outputs": [],
   "source": [
    "gru_cell = tf.contrib.rnn.GRUCell(hidden_layer_size)"
   ]
  },
  {
   "cell_type": "code",
   "execution_count": 17,
   "metadata": {
    "collapsed": false
   },
   "outputs": [],
   "source": [
    "## Question module\n",
    "with tf.variable_scope('question_module'):\n",
    "    q_output, q_state = tf.nn.dynamic_rnn(gru_cell,\n",
    "                                  questions,\n",
    "                                  dtype=np.float32)"
   ]
  },
  {
   "cell_type": "code",
   "execution_count": 19,
   "metadata": {
    "collapsed": false
   },
   "outputs": [],
   "source": [
    "## Input module\n",
    "with tf.variable_scope('input_module'):\n",
    "    i_output, i_state = tf.nn.dynamic_rnn(gru_cell,\n",
    "                                          inputs,\n",
    "                                          dtype=np.float32,\n",
    "                                          sequence_length=input_sequence_lengths)\n"
   ]
  },
  {
   "cell_type": "code",
   "execution_count": null,
   "metadata": {
    "collapsed": true
   },
   "outputs": [],
   "source": [
    "C = []\n",
    "for row_index in i_output:\n",
    "    for period_index in input_period_indices[index]:\n",
    "    i_output[row_index, period_index]"
   ]
  },
  {
   "cell_type": "code",
   "execution_count": 70,
   "metadata": {
    "collapsed": false
   },
   "outputs": [],
   "source": [
    "sess = tf.Session()\n",
    "sess.run(tf.global_variables_initializer())\n",
    "# a, b = sess.run((res, q_state), feed_dict={questions: data_questions})\n",
    "# q, o, s = sess.run((q_state, i_output, i_state), feed_dict={inputs: data_inputs, questions: data_questions})\n",
    "x_res = sess.run(res, feed_dict={inputs: data_inputs, questions: data_questions})"
   ]
  },
  {
   "cell_type": "code",
   "execution_count": 71,
   "metadata": {
    "collapsed": false
   },
   "outputs": [
    {
     "data": {
      "text/plain": [
       "array([ 0.19519633, -0.25427639, -0.01816615, -0.05425974,  0.10214984,\n",
       "       -0.11107145,  0.13686328, -0.06241753, -0.04128806,  0.02010231], dtype=float32)"
      ]
     },
     "execution_count": 71,
     "metadata": {},
     "output_type": "execute_result"
    }
   ],
   "source": [
    "x_res"
   ]
  },
  {
   "cell_type": "code",
   "execution_count": null,
   "metadata": {
    "collapsed": true
   },
   "outputs": [],
   "source": []
  },
  {
   "cell_type": "code",
   "execution_count": null,
   "metadata": {
    "collapsed": true
   },
   "outputs": [],
   "source": []
  },
  {
   "cell_type": "code",
   "execution_count": null,
   "metadata": {
    "collapsed": true
   },
   "outputs": [],
   "source": []
  },
  {
   "cell_type": "code",
   "execution_count": null,
   "metadata": {
    "collapsed": true
   },
   "outputs": [],
   "source": []
  },
  {
   "cell_type": "code",
   "execution_count": null,
   "metadata": {
    "collapsed": true
   },
   "outputs": [],
   "source": []
  },
  {
   "cell_type": "code",
   "execution_count": null,
   "metadata": {
    "collapsed": true
   },
   "outputs": [],
   "source": []
  },
  {
   "cell_type": "code",
   "execution_count": null,
   "metadata": {
    "collapsed": true
   },
   "outputs": [],
   "source": []
  },
  {
   "cell_type": "code",
   "execution_count": null,
   "metadata": {
    "collapsed": true
   },
   "outputs": [],
   "source": []
  },
  {
   "cell_type": "code",
   "execution_count": 40,
   "metadata": {
    "collapsed": false
   },
   "outputs": [],
   "source": [
    "# W = tf.Variable(tf.constant(0.0, shape=[vocab_size, embedding_dim]),\n",
    "#                 trainable=False, name=\"W\")\n",
    "\n",
    "embedding_placeholder = tf.placeholder(tf.float32, [vocab_size, embedding_dim])\n",
    "# embedding_init = W.assign(embedding_placeholder)\n",
    "word_ids = tf.placeholder(tf.int32, [None, None])\n",
    "res = tf.nn.embedding_lookup(embedding_placeholder, word_ids)\n",
    "\n",
    "# ...\n",
    "sess = tf.Session()\n",
    "\n",
    "a = sess.run(res, feed_dict={embedding_placeholder: embedding, word_ids: [[0,1,2], [1,1, 3]]})"
   ]
  },
  {
   "cell_type": "code",
   "execution_count": 20,
   "metadata": {
    "collapsed": true
   },
   "outputs": [],
   "source": [
    "b = sess.run(res, feed_dict={embedding_placeholder: embedding, word_ids: [3,4,4]})"
   ]
  },
  {
   "cell_type": "code",
   "execution_count": 100,
   "metadata": {
    "collapsed": false
   },
   "outputs": [],
   "source": [
    "trial = tf.placeholder(tf.float32, [None, None, embedding_dim])\n",
    "sess.run(trial, feed_dict={trial: [a, b]})"
   ]
  }
 ],
 "metadata": {
  "anaconda-cloud": {},
  "kernelspec": {
   "display_name": "Python [default]",
   "language": "python",
   "name": "python3"
  },
  "language_info": {
   "codemirror_mode": {
    "name": "ipython",
    "version": 3
   },
   "file_extension": ".py",
   "mimetype": "text/x-python",
   "name": "python",
   "nbconvert_exporter": "python",
   "pygments_lexer": "ipython3",
   "version": "3.5.2"
  }
 },
 "nbformat": 4,
 "nbformat_minor": 0
}
